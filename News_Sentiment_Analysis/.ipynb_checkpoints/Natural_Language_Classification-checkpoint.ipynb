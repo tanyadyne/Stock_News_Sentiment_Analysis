{
 "cells": [
  {
   "cell_type": "code",
   "execution_count": 1,
   "id": "5bdba94b",
   "metadata": {
    "scrolled": true
   },
   "outputs": [
    {
     "name": "stdout",
     "output_type": "stream",
     "text": [
      "Requirement already satisfied: sklearn in c:\\users\\tanyadyne\\anaconda3\\envs\\sentimenttrading\\lib\\site-packages (0.0)\n",
      "Requirement already satisfied: scikit-learn in c:\\users\\tanyadyne\\anaconda3\\envs\\sentimenttrading\\lib\\site-packages (from sklearn) (0.24.2)\n",
      "Requirement already satisfied: joblib>=0.11 in c:\\users\\tanyadyne\\anaconda3\\envs\\sentimenttrading\\lib\\site-packages (from scikit-learn->sklearn) (1.0.1)\n",
      "Requirement already satisfied: scipy>=0.19.1 in c:\\users\\tanyadyne\\anaconda3\\envs\\sentimenttrading\\lib\\site-packages (from scikit-learn->sklearn) (1.4.1)\n",
      "Requirement already satisfied: numpy>=1.13.3 in c:\\users\\tanyadyne\\anaconda3\\envs\\sentimenttrading\\lib\\site-packages (from scikit-learn->sklearn) (1.18.5)\n",
      "Requirement already satisfied: threadpoolctl>=2.0.0 in c:\\users\\tanyadyne\\anaconda3\\envs\\sentimenttrading\\lib\\site-packages (from scikit-learn->sklearn) (2.2.0)\n"
     ]
    }
   ],
   "source": [
    "# import required libraries\n",
    "import pandas as pd\n",
    "import numpy as np\n",
    "!pip install sklearn\n",
    "from sklearn.model_selection import train_test_split\n",
    "import tensorflow as tf"
   ]
  },
  {
   "cell_type": "markdown",
   "id": "302cc1e1",
   "metadata": {},
   "source": [
    "I will be using a dataset downloaded from Kaggle cited as:\n",
    "\n",
    "Malo, P., Sinha, A., Korhonen, P., Wallenius, J., & Takala, P. (2014). Good debt or bad debt: Detecting semantic orientations in economic texts. Journal of the Association for Information Science and Technology, 65(4), 782-796.\n",
    "\n",
    "I chose this dataset as it is very relevant to our use-case: it contains 4844 financial news headlines categorized by their sentiment from the \"perspective of a retail investor\"."
   ]
  },
  {
   "cell_type": "code",
   "execution_count": 2,
   "id": "778719bd",
   "metadata": {
    "scrolled": true
   },
   "outputs": [
    {
     "data": {
      "text/html": [
       "<div>\n",
       "<style scoped>\n",
       "    .dataframe tbody tr th:only-of-type {\n",
       "        vertical-align: middle;\n",
       "    }\n",
       "\n",
       "    .dataframe tbody tr th {\n",
       "        vertical-align: top;\n",
       "    }\n",
       "\n",
       "    .dataframe thead th {\n",
       "        text-align: right;\n",
       "    }\n",
       "</style>\n",
       "<table border=\"1\" class=\"dataframe\">\n",
       "  <thead>\n",
       "    <tr style=\"text-align: right;\">\n",
       "      <th></th>\n",
       "      <th>neutral</th>\n",
       "      <th>According to Gran , the company has no plans to move all production to Russia , although that is where the company is growing .</th>\n",
       "    </tr>\n",
       "  </thead>\n",
       "  <tbody>\n",
       "    <tr>\n",
       "      <th>0</th>\n",
       "      <td>neutral</td>\n",
       "      <td>Technopolis plans to develop in stages an area...</td>\n",
       "    </tr>\n",
       "    <tr>\n",
       "      <th>1</th>\n",
       "      <td>negative</td>\n",
       "      <td>The international electronic industry company ...</td>\n",
       "    </tr>\n",
       "    <tr>\n",
       "      <th>2</th>\n",
       "      <td>positive</td>\n",
       "      <td>With the new production plant the company woul...</td>\n",
       "    </tr>\n",
       "    <tr>\n",
       "      <th>3</th>\n",
       "      <td>positive</td>\n",
       "      <td>According to the company 's updated strategy f...</td>\n",
       "    </tr>\n",
       "    <tr>\n",
       "      <th>4</th>\n",
       "      <td>positive</td>\n",
       "      <td>FINANCING OF ASPOCOMP 'S GROWTH Aspocomp is ag...</td>\n",
       "    </tr>\n",
       "    <tr>\n",
       "      <th>...</th>\n",
       "      <td>...</td>\n",
       "      <td>...</td>\n",
       "    </tr>\n",
       "    <tr>\n",
       "      <th>4840</th>\n",
       "      <td>negative</td>\n",
       "      <td>LONDON MarketWatch -- Share prices ended lower...</td>\n",
       "    </tr>\n",
       "    <tr>\n",
       "      <th>4841</th>\n",
       "      <td>neutral</td>\n",
       "      <td>Rinkuskiai 's beer sales fell by 6.5 per cent ...</td>\n",
       "    </tr>\n",
       "    <tr>\n",
       "      <th>4842</th>\n",
       "      <td>negative</td>\n",
       "      <td>Operating profit fell to EUR 35.4 mn from EUR ...</td>\n",
       "    </tr>\n",
       "    <tr>\n",
       "      <th>4843</th>\n",
       "      <td>negative</td>\n",
       "      <td>Net sales of the Paper segment decreased to EU...</td>\n",
       "    </tr>\n",
       "    <tr>\n",
       "      <th>4844</th>\n",
       "      <td>negative</td>\n",
       "      <td>Sales in Finland decreased by 10.5 % in Januar...</td>\n",
       "    </tr>\n",
       "  </tbody>\n",
       "</table>\n",
       "<p>4845 rows × 2 columns</p>\n",
       "</div>"
      ],
      "text/plain": [
       "       neutral  \\\n",
       "0      neutral   \n",
       "1     negative   \n",
       "2     positive   \n",
       "3     positive   \n",
       "4     positive   \n",
       "...        ...   \n",
       "4840  negative   \n",
       "4841   neutral   \n",
       "4842  negative   \n",
       "4843  negative   \n",
       "4844  negative   \n",
       "\n",
       "     According to Gran , the company has no plans to move all production to Russia , although that is where the company is growing .  \n",
       "0     Technopolis plans to develop in stages an area...                                                                               \n",
       "1     The international electronic industry company ...                                                                               \n",
       "2     With the new production plant the company woul...                                                                               \n",
       "3     According to the company 's updated strategy f...                                                                               \n",
       "4     FINANCING OF ASPOCOMP 'S GROWTH Aspocomp is ag...                                                                               \n",
       "...                                                 ...                                                                               \n",
       "4840  LONDON MarketWatch -- Share prices ended lower...                                                                               \n",
       "4841  Rinkuskiai 's beer sales fell by 6.5 per cent ...                                                                               \n",
       "4842  Operating profit fell to EUR 35.4 mn from EUR ...                                                                               \n",
       "4843  Net sales of the Paper segment decreased to EU...                                                                               \n",
       "4844  Sales in Finland decreased by 10.5 % in Januar...                                                                               \n",
       "\n",
       "[4845 rows x 2 columns]"
      ]
     },
     "execution_count": 2,
     "metadata": {},
     "output_type": "execute_result"
    }
   ],
   "source": [
    "# create dataframe\n",
    "df = pd.read_csv('./financialnews.csv', encoding='latin-1')      # latin-1 encoding required to fix error\n",
    "df"
   ]
  },
  {
   "cell_type": "code",
   "execution_count": 3,
   "id": "c64990c2",
   "metadata": {},
   "outputs": [
    {
     "data": {
      "text/html": [
       "<div>\n",
       "<style scoped>\n",
       "    .dataframe tbody tr th:only-of-type {\n",
       "        vertical-align: middle;\n",
       "    }\n",
       "\n",
       "    .dataframe tbody tr th {\n",
       "        vertical-align: top;\n",
       "    }\n",
       "\n",
       "    .dataframe thead th {\n",
       "        text-align: right;\n",
       "    }\n",
       "</style>\n",
       "<table border=\"1\" class=\"dataframe\">\n",
       "  <thead>\n",
       "    <tr style=\"text-align: right;\">\n",
       "      <th></th>\n",
       "      <th>Sentiment</th>\n",
       "      <th>SentimentText</th>\n",
       "    </tr>\n",
       "  </thead>\n",
       "  <tbody>\n",
       "    <tr>\n",
       "      <th>0</th>\n",
       "      <td>neutral</td>\n",
       "      <td>Technopolis plans to develop in stages an area...</td>\n",
       "    </tr>\n",
       "    <tr>\n",
       "      <th>1</th>\n",
       "      <td>negative</td>\n",
       "      <td>The international electronic industry company ...</td>\n",
       "    </tr>\n",
       "    <tr>\n",
       "      <th>2</th>\n",
       "      <td>positive</td>\n",
       "      <td>With the new production plant the company woul...</td>\n",
       "    </tr>\n",
       "    <tr>\n",
       "      <th>3</th>\n",
       "      <td>positive</td>\n",
       "      <td>According to the company 's updated strategy f...</td>\n",
       "    </tr>\n",
       "    <tr>\n",
       "      <th>4</th>\n",
       "      <td>positive</td>\n",
       "      <td>FINANCING OF ASPOCOMP 'S GROWTH Aspocomp is ag...</td>\n",
       "    </tr>\n",
       "    <tr>\n",
       "      <th>...</th>\n",
       "      <td>...</td>\n",
       "      <td>...</td>\n",
       "    </tr>\n",
       "    <tr>\n",
       "      <th>4840</th>\n",
       "      <td>negative</td>\n",
       "      <td>LONDON MarketWatch -- Share prices ended lower...</td>\n",
       "    </tr>\n",
       "    <tr>\n",
       "      <th>4841</th>\n",
       "      <td>neutral</td>\n",
       "      <td>Rinkuskiai 's beer sales fell by 6.5 per cent ...</td>\n",
       "    </tr>\n",
       "    <tr>\n",
       "      <th>4842</th>\n",
       "      <td>negative</td>\n",
       "      <td>Operating profit fell to EUR 35.4 mn from EUR ...</td>\n",
       "    </tr>\n",
       "    <tr>\n",
       "      <th>4843</th>\n",
       "      <td>negative</td>\n",
       "      <td>Net sales of the Paper segment decreased to EU...</td>\n",
       "    </tr>\n",
       "    <tr>\n",
       "      <th>4844</th>\n",
       "      <td>negative</td>\n",
       "      <td>Sales in Finland decreased by 10.5 % in Januar...</td>\n",
       "    </tr>\n",
       "  </tbody>\n",
       "</table>\n",
       "<p>4845 rows × 2 columns</p>\n",
       "</div>"
      ],
      "text/plain": [
       "     Sentiment                                      SentimentText\n",
       "0      neutral  Technopolis plans to develop in stages an area...\n",
       "1     negative  The international electronic industry company ...\n",
       "2     positive  With the new production plant the company woul...\n",
       "3     positive  According to the company 's updated strategy f...\n",
       "4     positive  FINANCING OF ASPOCOMP 'S GROWTH Aspocomp is ag...\n",
       "...        ...                                                ...\n",
       "4840  negative  LONDON MarketWatch -- Share prices ended lower...\n",
       "4841   neutral  Rinkuskiai 's beer sales fell by 6.5 per cent ...\n",
       "4842  negative  Operating profit fell to EUR 35.4 mn from EUR ...\n",
       "4843  negative  Net sales of the Paper segment decreased to EU...\n",
       "4844  negative  Sales in Finland decreased by 10.5 % in Januar...\n",
       "\n",
       "[4845 rows x 2 columns]"
      ]
     },
     "execution_count": 3,
     "metadata": {},
     "output_type": "execute_result"
    }
   ],
   "source": [
    "# change column names\n",
    "df.columns = ['Sentiment', 'SentimentText']\n",
    "df"
   ]
  },
  {
   "cell_type": "code",
   "execution_count": 4,
   "id": "b218e6aa",
   "metadata": {},
   "outputs": [
    {
     "data": {
      "text/html": [
       "<div>\n",
       "<style scoped>\n",
       "    .dataframe tbody tr th:only-of-type {\n",
       "        vertical-align: middle;\n",
       "    }\n",
       "\n",
       "    .dataframe tbody tr th {\n",
       "        vertical-align: top;\n",
       "    }\n",
       "\n",
       "    .dataframe thead th {\n",
       "        text-align: right;\n",
       "    }\n",
       "</style>\n",
       "<table border=\"1\" class=\"dataframe\">\n",
       "  <thead>\n",
       "    <tr style=\"text-align: right;\">\n",
       "      <th></th>\n",
       "      <th>Sentiment</th>\n",
       "      <th>SentimentText</th>\n",
       "    </tr>\n",
       "  </thead>\n",
       "  <tbody>\n",
       "    <tr>\n",
       "      <th>0</th>\n",
       "      <td>1</td>\n",
       "      <td>Technopolis plans to develop in stages an area...</td>\n",
       "    </tr>\n",
       "    <tr>\n",
       "      <th>1</th>\n",
       "      <td>0</td>\n",
       "      <td>The international electronic industry company ...</td>\n",
       "    </tr>\n",
       "    <tr>\n",
       "      <th>2</th>\n",
       "      <td>2</td>\n",
       "      <td>With the new production plant the company woul...</td>\n",
       "    </tr>\n",
       "    <tr>\n",
       "      <th>3</th>\n",
       "      <td>2</td>\n",
       "      <td>According to the company 's updated strategy f...</td>\n",
       "    </tr>\n",
       "    <tr>\n",
       "      <th>4</th>\n",
       "      <td>2</td>\n",
       "      <td>FINANCING OF ASPOCOMP 'S GROWTH Aspocomp is ag...</td>\n",
       "    </tr>\n",
       "    <tr>\n",
       "      <th>...</th>\n",
       "      <td>...</td>\n",
       "      <td>...</td>\n",
       "    </tr>\n",
       "    <tr>\n",
       "      <th>4840</th>\n",
       "      <td>0</td>\n",
       "      <td>LONDON MarketWatch -- Share prices ended lower...</td>\n",
       "    </tr>\n",
       "    <tr>\n",
       "      <th>4841</th>\n",
       "      <td>1</td>\n",
       "      <td>Rinkuskiai 's beer sales fell by 6.5 per cent ...</td>\n",
       "    </tr>\n",
       "    <tr>\n",
       "      <th>4842</th>\n",
       "      <td>0</td>\n",
       "      <td>Operating profit fell to EUR 35.4 mn from EUR ...</td>\n",
       "    </tr>\n",
       "    <tr>\n",
       "      <th>4843</th>\n",
       "      <td>0</td>\n",
       "      <td>Net sales of the Paper segment decreased to EU...</td>\n",
       "    </tr>\n",
       "    <tr>\n",
       "      <th>4844</th>\n",
       "      <td>0</td>\n",
       "      <td>Sales in Finland decreased by 10.5 % in Januar...</td>\n",
       "    </tr>\n",
       "  </tbody>\n",
       "</table>\n",
       "<p>4845 rows × 2 columns</p>\n",
       "</div>"
      ],
      "text/plain": [
       "      Sentiment                                      SentimentText\n",
       "0             1  Technopolis plans to develop in stages an area...\n",
       "1             0  The international electronic industry company ...\n",
       "2             2  With the new production plant the company woul...\n",
       "3             2  According to the company 's updated strategy f...\n",
       "4             2  FINANCING OF ASPOCOMP 'S GROWTH Aspocomp is ag...\n",
       "...         ...                                                ...\n",
       "4840          0  LONDON MarketWatch -- Share prices ended lower...\n",
       "4841          1  Rinkuskiai 's beer sales fell by 6.5 per cent ...\n",
       "4842          0  Operating profit fell to EUR 35.4 mn from EUR ...\n",
       "4843          0  Net sales of the Paper segment decreased to EU...\n",
       "4844          0  Sales in Finland decreased by 10.5 % in Januar...\n",
       "\n",
       "[4845 rows x 2 columns]"
      ]
     },
     "execution_count": 4,
     "metadata": {},
     "output_type": "execute_result"
    }
   ],
   "source": [
    "# convert text in the Sentiment column to a number\n",
    "mapper = {'negative': 0,\n",
    "          'neutral': 1,\n",
    "          'positive': 2}\n",
    "df.Sentiment = df.Sentiment.map(mapper)\n",
    "df"
   ]
  },
  {
   "cell_type": "code",
   "execution_count": 5,
   "id": "2440f383",
   "metadata": {},
   "outputs": [
    {
     "data": {
      "text/plain": [
       "1    2878\n",
       "2    1363\n",
       "0     604\n",
       "Name: Sentiment, dtype: int64"
      ]
     },
     "execution_count": 5,
     "metadata": {},
     "output_type": "execute_result"
    }
   ],
   "source": [
    "# count the number of values that are negative, neutral, or positive\n",
    "df.Sentiment.value_counts()"
   ]
  },
  {
   "cell_type": "markdown",
   "id": "396d7490",
   "metadata": {},
   "source": [
    "I notice that we may be dealing with a bad dataset as the datapoints are skewed towards neutral/positive sentiment. I'll try to fix this by keeping only 604 datapoints from each Sentiment classification."
   ]
  },
  {
   "cell_type": "code",
   "execution_count": 6,
   "id": "d6f62f56",
   "metadata": {},
   "outputs": [
    {
     "name": "stdout",
     "output_type": "stream",
     "text": [
      "0 is ok\n",
      "1 is too large\n",
      "2 is too large\n"
     ]
    }
   ],
   "source": [
    "for i in range(3):\n",
    "    if len(df.loc[df.Sentiment == i]) > 604:\n",
    "        print(f'{i} is too large')\n",
    "    else:\n",
    "        print(f'{i} is ok')"
   ]
  },
  {
   "cell_type": "code",
   "execution_count": 7,
   "id": "962e381e",
   "metadata": {},
   "outputs": [],
   "source": [
    "# create three separate dataframes to work with\n",
    "df_neg = df[df['Sentiment'] == 0]\n",
    "df_neg = df_neg.reset_index(drop=True)\n",
    "\n",
    "df_neu = df[df['Sentiment'] == 1]\n",
    "df_neu = df_neu.reset_index(drop=True)\n",
    "\n",
    "df_pos = df[df['Sentiment'] == 2]\n",
    "df_pos = df_pos.reset_index(drop=True)"
   ]
  },
  {
   "cell_type": "code",
   "execution_count": 8,
   "id": "d41a930c",
   "metadata": {},
   "outputs": [
    {
     "data": {
      "text/plain": [
       "604"
      ]
     },
     "execution_count": 8,
     "metadata": {},
     "output_type": "execute_result"
    }
   ],
   "source": [
    "# drop (2878-604=2274) random rows from df_neu\n",
    "remove_neu = 2274\n",
    "drop_ind_neu = np.random.choice(df_neu.index, remove_neu, replace=False)   # sample 'remove_neu' number of random row id's\n",
    "df_neu_subset = df_neu.drop(drop_ind_neu)                                  # remove random rows from df\n",
    "len(df_neu_subset)"
   ]
  },
  {
   "cell_type": "code",
   "execution_count": 9,
   "id": "90d330ab",
   "metadata": {},
   "outputs": [
    {
     "data": {
      "text/plain": [
       "604"
      ]
     },
     "execution_count": 9,
     "metadata": {},
     "output_type": "execute_result"
    }
   ],
   "source": [
    "# drop (1363-604=759) random rows from df_pos\n",
    "remove_pos = 759\n",
    "drop_ind_pos = np.random.choice(df_pos.index, remove_pos, replace=False)\n",
    "df_pos_subset = df_pos.drop(drop_ind_pos)\n",
    "len(df_pos_subset)"
   ]
  },
  {
   "cell_type": "code",
   "execution_count": 10,
   "id": "0ea96dc0",
   "metadata": {},
   "outputs": [
    {
     "data": {
      "text/html": [
       "<div>\n",
       "<style scoped>\n",
       "    .dataframe tbody tr th:only-of-type {\n",
       "        vertical-align: middle;\n",
       "    }\n",
       "\n",
       "    .dataframe tbody tr th {\n",
       "        vertical-align: top;\n",
       "    }\n",
       "\n",
       "    .dataframe thead th {\n",
       "        text-align: right;\n",
       "    }\n",
       "</style>\n",
       "<table border=\"1\" class=\"dataframe\">\n",
       "  <thead>\n",
       "    <tr style=\"text-align: right;\">\n",
       "      <th></th>\n",
       "      <th>Sentiment</th>\n",
       "      <th>SentimentText</th>\n",
       "    </tr>\n",
       "  </thead>\n",
       "  <tbody>\n",
       "    <tr>\n",
       "      <th>0</th>\n",
       "      <td>1</td>\n",
       "      <td>At the request of Finnish media company Alma M...</td>\n",
       "    </tr>\n",
       "    <tr>\n",
       "      <th>1</th>\n",
       "      <td>1</td>\n",
       "      <td>The company supports its global customers in d...</td>\n",
       "    </tr>\n",
       "    <tr>\n",
       "      <th>2</th>\n",
       "      <td>1</td>\n",
       "      <td>In June it sold a 30 percent stake to Nordstje...</td>\n",
       "    </tr>\n",
       "    <tr>\n",
       "      <th>3</th>\n",
       "      <td>1</td>\n",
       "      <td>The 718,430 new Series A shares will become su...</td>\n",
       "    </tr>\n",
       "    <tr>\n",
       "      <th>4</th>\n",
       "      <td>1</td>\n",
       "      <td>Tiimari operates 194 stores in six countries -...</td>\n",
       "    </tr>\n",
       "    <tr>\n",
       "      <th>...</th>\n",
       "      <td>...</td>\n",
       "      <td>...</td>\n",
       "    </tr>\n",
       "    <tr>\n",
       "      <th>1807</th>\n",
       "      <td>0</td>\n",
       "      <td>HELSINKI Thomson Financial - Shares in Cargote...</td>\n",
       "    </tr>\n",
       "    <tr>\n",
       "      <th>1808</th>\n",
       "      <td>0</td>\n",
       "      <td>LONDON MarketWatch -- Share prices ended lower...</td>\n",
       "    </tr>\n",
       "    <tr>\n",
       "      <th>1809</th>\n",
       "      <td>0</td>\n",
       "      <td>Operating profit fell to EUR 35.4 mn from EUR ...</td>\n",
       "    </tr>\n",
       "    <tr>\n",
       "      <th>1810</th>\n",
       "      <td>0</td>\n",
       "      <td>Net sales of the Paper segment decreased to EU...</td>\n",
       "    </tr>\n",
       "    <tr>\n",
       "      <th>1811</th>\n",
       "      <td>0</td>\n",
       "      <td>Sales in Finland decreased by 10.5 % in Januar...</td>\n",
       "    </tr>\n",
       "  </tbody>\n",
       "</table>\n",
       "<p>1812 rows × 2 columns</p>\n",
       "</div>"
      ],
      "text/plain": [
       "      Sentiment                                      SentimentText\n",
       "0             1  At the request of Finnish media company Alma M...\n",
       "1             1  The company supports its global customers in d...\n",
       "2             1  In June it sold a 30 percent stake to Nordstje...\n",
       "3             1  The 718,430 new Series A shares will become su...\n",
       "4             1  Tiimari operates 194 stores in six countries -...\n",
       "...         ...                                                ...\n",
       "1807          0  HELSINKI Thomson Financial - Shares in Cargote...\n",
       "1808          0  LONDON MarketWatch -- Share prices ended lower...\n",
       "1809          0  Operating profit fell to EUR 35.4 mn from EUR ...\n",
       "1810          0  Net sales of the Paper segment decreased to EU...\n",
       "1811          0  Sales in Finland decreased by 10.5 % in Januar...\n",
       "\n",
       "[1812 rows x 2 columns]"
      ]
     },
     "execution_count": 10,
     "metadata": {},
     "output_type": "execute_result"
    }
   ],
   "source": [
    "# concatenate the three dataframes into a new one\n",
    "new_df = pd.concat([df_neu_subset, df_pos_subset, df_neg])\n",
    "new_df = new_df.reset_index(drop=True)\n",
    "new_df"
   ]
  },
  {
   "cell_type": "code",
   "execution_count": 11,
   "id": "19dc3e4d",
   "metadata": {},
   "outputs": [
    {
     "data": {
      "text/plain": [
       "1    604\n",
       "2    604\n",
       "0    604\n",
       "Name: Sentiment, dtype: int64"
      ]
     },
     "execution_count": 11,
     "metadata": {},
     "output_type": "execute_result"
    }
   ],
   "source": [
    "new_df.Sentiment.value_counts()"
   ]
  },
  {
   "cell_type": "markdown",
   "id": "894c6f63",
   "metadata": {},
   "source": [
    "Now that we have the same number of datapoints for each type of sentiment, we can proceed with the analysis."
   ]
  },
  {
   "cell_type": "code",
   "execution_count": 12,
   "id": "fac6a1fe",
   "metadata": {},
   "outputs": [],
   "source": [
    "# split data into train and test set (test set will be 20% of our data)\n",
    "train, valid = train_test_split(new_df, test_size=0.2)           "
   ]
  },
  {
   "cell_type": "code",
   "execution_count": 13,
   "id": "69aafcde",
   "metadata": {},
   "outputs": [],
   "source": [
    "# convert train/test data into np arrays so that ml model can take in as input\n",
    "train_text = np.array(train['SentimentText'].tolist().copy())\n",
    "train_labels = keras.utils.to_categorical(train['Sentiment'].astype('int64'))"
   ]
  },
  {
   "cell_type": "code",
   "execution_count": 14,
   "id": "b5bd041f",
   "metadata": {},
   "outputs": [],
   "source": [
    "valid_text = np.array(valid['SentimentText'].tolist().copy())\n",
    "valid_labels = keras.utils.to_categorical(valid['Sentiment'].astype('int64'))"
   ]
  },
  {
   "cell_type": "code",
   "execution_count": 15,
   "id": "566144e9",
   "metadata": {},
   "outputs": [],
   "source": [
    "# declaring variables for preprocessing \n",
    "\n",
    "vocab_size = 1000     # number of words tokenizer will keep in its memory\n",
    "embedding_dim = 16\n",
    "max_length = 142      # we'll accept sentences of max. 142 characters\n",
    "trunc_type = 'post'\n",
    "padding_type = 'post'\n",
    "oov_token = '<OOV>'   # placeholder for words not in tokenizer\n",
    "\n",
    "# instantiating our tokenizer\n",
    "tokenizer = tf.keras.preprocessing.text.Tokenizer(\n",
    "                num_words=vocab_size,\n",
    "                oov_token=oov_token)"
   ]
  },
  {
   "cell_type": "code",
   "execution_count": 16,
   "id": "500414c0",
   "metadata": {},
   "outputs": [],
   "source": [
    "tokenizer.fit_on_texts(train_text)\n",
    "#tokenizer.word_index\n",
    "\n",
    "sequences = tokenizer.texts_to_sequences(train_text)          # use tokenizer on our sentences to create sequences\n",
    " \n",
    "    \n",
    "    \n",
    "padded = tf.keras.preprocessing.sequence.pad_sequences(       # ensure sentences are of the same length\n",
    "            sequences, maxlen=max_length,\n",
    "            padding=padding_type,\n",
    "            truncating=trunc_type)                 "
   ]
  },
  {
   "cell_type": "code",
   "execution_count": 17,
   "id": "7280d8ab",
   "metadata": {},
   "outputs": [],
   "source": [
    "# repeat for the testing text\n",
    "testing_sequences = tokenizer.texts_to_sequences(valid_text)\n",
    "\n",
    "testing_padded = tf.keras.preprocessing.sequence.pad_sequences(\n",
    "                    testing_sequences,\n",
    "                    maxlen=max_length,\n",
    "                    padding=padding_type,\n",
    "                    truncating=trunc_type)"
   ]
  },
  {
   "cell_type": "code",
   "execution_count": 18,
   "id": "e8277f97",
   "metadata": {},
   "outputs": [],
   "source": [
    "# need to save the tokenizer on local computer so we can load it later\n",
    "import pickle\n",
    "with open('tokenizer.pickle', 'wb') as handle:\n",
    "    pickle.dump(tokenizer, handle, protocol=pickle.HIGHEST_PROTOCOL)"
   ]
  },
  {
   "cell_type": "markdown",
   "id": "7815b1ae",
   "metadata": {},
   "source": [
    "The next task is to build a simple neural network in Keras:"
   ]
  },
  {
   "cell_type": "code",
   "execution_count": 19,
   "id": "62236323",
   "metadata": {},
   "outputs": [
    {
     "name": "stdout",
     "output_type": "stream",
     "text": [
      "Model: \"sequential\"\n",
      "_________________________________________________________________\n",
      "Layer (type)                 Output Shape              Param #   \n",
      "=================================================================\n",
      "embedding (Embedding)        (None, 142, 16)           16000     \n",
      "_________________________________________________________________\n",
      "global_average_pooling1d (Gl (None, 16)                0         \n",
      "_________________________________________________________________\n",
      "dense (Dense)                (None, 16)                272       \n",
      "_________________________________________________________________\n",
      "dense_1 (Dense)              (None, 3)                 51        \n",
      "=================================================================\n",
      "Total params: 16,323\n",
      "Trainable params: 16,323\n",
      "Non-trainable params: 0\n",
      "_________________________________________________________________\n"
     ]
    }
   ],
   "source": [
    "model = tf.keras.Sequential([\n",
    "    tf.keras.layers.Embedding(vocab_size, embedding_dim, input_length=max_length),\n",
    "    tf.keras.layers.GlobalAveragePooling1D(),\n",
    "    tf.keras.layers.Dense(16, activation='relu'),\n",
    "    tf.keras.layers.Dense(3, activation='softmax')\n",
    "])\n",
    "\n",
    "# use 'sparse_categorical_accuracy' instead of 'accuracy' to fix \"model.state_updates is deprecated\" error \n",
    "model.compile(loss='categorical_crossentropy', optimizer='adam', metrics=['accuracy'])\n",
    "model.summary()"
   ]
  },
  {
   "cell_type": "code",
   "execution_count": 20,
   "id": "7f3fb5e0",
   "metadata": {},
   "outputs": [
    {
     "name": "stdout",
     "output_type": "stream",
     "text": [
      "Epoch 1/30\n",
      "46/46 [==============================] - 1s 14ms/step - loss: 1.0984 - accuracy: 0.3271 - val_loss: 1.0974 - val_accuracy: 0.3664\n",
      "Epoch 2/30\n",
      "46/46 [==============================] - 0s 3ms/step - loss: 1.0965 - accuracy: 0.3568 - val_loss: 1.0956 - val_accuracy: 0.3939\n",
      "Epoch 3/30\n",
      "46/46 [==============================] - 0s 3ms/step - loss: 1.0927 - accuracy: 0.4369 - val_loss: 1.0918 - val_accuracy: 0.4408\n",
      "Epoch 4/30\n",
      "46/46 [==============================] - 0s 3ms/step - loss: 1.0844 - accuracy: 0.4410 - val_loss: 1.0832 - val_accuracy: 0.4904\n",
      "Epoch 5/30\n",
      "46/46 [==============================] - 0s 3ms/step - loss: 1.0689 - accuracy: 0.4859 - val_loss: 1.0700 - val_accuracy: 0.4986\n",
      "Epoch 6/30\n",
      "46/46 [==============================] - 0s 5ms/step - loss: 1.0484 - accuracy: 0.4983 - val_loss: 1.0521 - val_accuracy: 0.4766\n",
      "Epoch 7/30\n",
      "46/46 [==============================] - 0s 6ms/step - loss: 1.0197 - accuracy: 0.4997 - val_loss: 1.0346 - val_accuracy: 0.4545\n",
      "Epoch 8/30\n",
      "46/46 [==============================] - 0s 3ms/step - loss: 0.9915 - accuracy: 0.5128 - val_loss: 1.0178 - val_accuracy: 0.5014\n",
      "Epoch 9/30\n",
      "46/46 [==============================] - 0s 2ms/step - loss: 0.9655 - accuracy: 0.5300 - val_loss: 1.0044 - val_accuracy: 0.5069\n",
      "Epoch 10/30\n",
      "46/46 [==============================] - 0s 2ms/step - loss: 0.9433 - accuracy: 0.5376 - val_loss: 0.9921 - val_accuracy: 0.5152\n",
      "Epoch 11/30\n",
      "46/46 [==============================] - 0s 3ms/step - loss: 0.9204 - accuracy: 0.5507 - val_loss: 0.9814 - val_accuracy: 0.4848\n",
      "Epoch 12/30\n",
      "46/46 [==============================] - 0s 3ms/step - loss: 0.9003 - accuracy: 0.5652 - val_loss: 0.9711 - val_accuracy: 0.5262\n",
      "Epoch 13/30\n",
      "46/46 [==============================] - 0s 2ms/step - loss: 0.8823 - accuracy: 0.5638 - val_loss: 0.9588 - val_accuracy: 0.5152\n",
      "Epoch 14/30\n",
      "46/46 [==============================] - 0s 2ms/step - loss: 0.8592 - accuracy: 0.5756 - val_loss: 0.9573 - val_accuracy: 0.4904\n",
      "Epoch 15/30\n",
      "46/46 [==============================] - 0s 2ms/step - loss: 0.8404 - accuracy: 0.5866 - val_loss: 0.9396 - val_accuracy: 0.5317\n",
      "Epoch 16/30\n",
      "46/46 [==============================] - 0s 2ms/step - loss: 0.8229 - accuracy: 0.5928 - val_loss: 0.9302 - val_accuracy: 0.5427\n",
      "Epoch 17/30\n",
      "46/46 [==============================] - 0s 3ms/step - loss: 0.8037 - accuracy: 0.6115 - val_loss: 0.9196 - val_accuracy: 0.5482\n",
      "Epoch 18/30\n",
      "46/46 [==============================] - 0s 3ms/step - loss: 0.7930 - accuracy: 0.6087 - val_loss: 0.9133 - val_accuracy: 0.5510\n",
      "Epoch 19/30\n",
      "46/46 [==============================] - 0s 3ms/step - loss: 0.7718 - accuracy: 0.6218 - val_loss: 0.9012 - val_accuracy: 0.5592\n",
      "Epoch 20/30\n",
      "46/46 [==============================] - 0s 3ms/step - loss: 0.7527 - accuracy: 0.6342 - val_loss: 0.8949 - val_accuracy: 0.5620\n",
      "Epoch 21/30\n",
      "46/46 [==============================] - 0s 2ms/step - loss: 0.7380 - accuracy: 0.6425 - val_loss: 0.8896 - val_accuracy: 0.5565\n",
      "Epoch 22/30\n",
      "46/46 [==============================] - 0s 3ms/step - loss: 0.7211 - accuracy: 0.6467 - val_loss: 0.8803 - val_accuracy: 0.5675\n",
      "Epoch 23/30\n",
      "46/46 [==============================] - 0s 3ms/step - loss: 0.7086 - accuracy: 0.6425 - val_loss: 0.8745 - val_accuracy: 0.5537\n",
      "Epoch 24/30\n",
      "46/46 [==============================] - 0s 2ms/step - loss: 0.6958 - accuracy: 0.6639 - val_loss: 0.8765 - val_accuracy: 0.5537\n",
      "Epoch 25/30\n",
      "46/46 [==============================] - 0s 2ms/step - loss: 0.6812 - accuracy: 0.6708 - val_loss: 0.8701 - val_accuracy: 0.5482\n",
      "Epoch 26/30\n",
      "46/46 [==============================] - 0s 2ms/step - loss: 0.6708 - accuracy: 0.6743 - val_loss: 0.8635 - val_accuracy: 0.5647\n",
      "Epoch 27/30\n",
      "46/46 [==============================] - 0s 2ms/step - loss: 0.6626 - accuracy: 0.6818 - val_loss: 0.8612 - val_accuracy: 0.5427\n",
      "Epoch 28/30\n",
      "46/46 [==============================] - 0s 2ms/step - loss: 0.6505 - accuracy: 0.6908 - val_loss: 0.8639 - val_accuracy: 0.5675\n",
      "Epoch 29/30\n",
      "46/46 [==============================] - 0s 2ms/step - loss: 0.6409 - accuracy: 0.6936 - val_loss: 0.8646 - val_accuracy: 0.5537\n",
      "Epoch 30/30\n",
      "46/46 [==============================] - 0s 2ms/step - loss: 0.6315 - accuracy: 0.7060 - val_loss: 0.8575 - val_accuracy: 0.5592\n"
     ]
    }
   ],
   "source": [
    "# fitting and training the model on our modified dataset\n",
    "\n",
    "num_epochs = 30                             # number of times to go over the dataset\n",
    "history = model.fit(padded, \n",
    "                    train_labels, \n",
    "                    epochs=num_epochs, \n",
    "                    validation_data=(testing_padded, valid_labels))"
   ]
  },
  {
   "cell_type": "code",
   "execution_count": 21,
   "id": "9108eb82",
   "metadata": {},
   "outputs": [
    {
     "name": "stdout",
     "output_type": "stream",
     "text": [
      "['TSLA will compound by 10% over the next 10 years'] : Positive\n"
     ]
    }
   ],
   "source": [
    "# testing our model\n",
    "phrase = ['TSLA will compound by 10% over the next 10 years']\n",
    "\n",
    "test_sequences = tokenizer.texts_to_sequences(phrase)\n",
    "test_padded = tf.keras.preprocessing.sequence.pad_sequences(       \n",
    "                test_sequences, maxlen=max_length,\n",
    "                padding=padding_type,\n",
    "                truncating=trunc_type)\n",
    "\n",
    "pred = model.predict(test_padded)\n",
    "classes = np.argmax(pred, axis=-1)\n",
    "dict_sentiment = {0:'Negative', 1:'Neutral', 2:'Positive'}\n",
    "print(f'{phrase} : {dict_sentiment[int(classes)]}')                # outputs neutral or, sometimes, positive"
   ]
  },
  {
   "cell_type": "code",
   "execution_count": 22,
   "id": "4c86e0e5",
   "metadata": {},
   "outputs": [
    {
     "name": "stdout",
     "output_type": "stream",
     "text": [
      "WARNING:tensorflow:From C:\\Users\\TanyaDyne\\anaconda3\\envs\\sentimenttrading\\lib\\site-packages\\tensorflow\\python\\training\\tracking\\tracking.py:111: Model.state_updates (from tensorflow.python.keras.engine.training) is deprecated and will be removed in a future version.\n",
      "Instructions for updating:\n",
      "This property should not be used in TensorFlow 2.0, as updates are applied automatically.\n",
      "WARNING:tensorflow:From C:\\Users\\TanyaDyne\\anaconda3\\envs\\sentimenttrading\\lib\\site-packages\\tensorflow\\python\\training\\tracking\\tracking.py:111: Layer.updates (from tensorflow.python.keras.engine.base_layer) is deprecated and will be removed in a future version.\n",
      "Instructions for updating:\n",
      "This property should not be used in TensorFlow 2.0, as updates are applied automatically.\n",
      "INFO:tensorflow:Assets written to: model_1\\assets\n"
     ]
    }
   ],
   "source": [
    "# save our model\n",
    "model.save('model_1')"
   ]
  },
  {
   "cell_type": "code",
   "execution_count": null,
   "id": "b983f1fa",
   "metadata": {},
   "outputs": [],
   "source": []
  }
 ],
 "metadata": {
  "kernelspec": {
   "display_name": "Python 3 (ipykernel)",
   "language": "python",
   "name": "python3"
  },
  "language_info": {
   "codemirror_mode": {
    "name": "ipython",
    "version": 3
   },
   "file_extension": ".py",
   "mimetype": "text/x-python",
   "name": "python",
   "nbconvert_exporter": "python",
   "pygments_lexer": "ipython3",
   "version": "3.8.11"
  }
 },
 "nbformat": 4,
 "nbformat_minor": 5
}
